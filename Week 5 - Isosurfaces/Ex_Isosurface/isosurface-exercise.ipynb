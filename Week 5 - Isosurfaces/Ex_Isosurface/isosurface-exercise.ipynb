version https://git-lfs.github.com/spec/v1
oid sha256:dbd00af6e01415bb86b486e6f2fee58f16f607cad380071649d9a0e6a94685b8
size 10626
